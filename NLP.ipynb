{
 "cells": [
  {
   "cell_type": "code",
   "execution_count": 1,
   "id": "d4f64103",
   "metadata": {},
   "outputs": [
    {
     "name": "stderr",
     "output_type": "stream",
     "text": [
      "C:\\Users\\susri\\anaconda3\\lib\\site-packages\\scipy\\__init__.py:155: UserWarning: A NumPy version >=1.18.5 and <1.25.0 is required for this version of SciPy (detected version 1.25.0\n",
      "  warnings.warn(f\"A NumPy version >={np_minversion} and <{np_maxversion}\"\n"
     ]
    }
   ],
   "source": [
    "import numpy as np\n",
    "import nltk\n",
    "import string\n",
    "import random\n",
    "import pandas as pd\n"
   ]
  },
  {
   "cell_type": "code",
   "execution_count": 2,
   "id": "11d68fdd",
   "metadata": {},
   "outputs": [
    {
     "name": "stderr",
     "output_type": "stream",
     "text": [
      "[nltk_data] Downloading package punkt to\n",
      "[nltk_data]     C:\\Users\\susri\\AppData\\Roaming\\nltk_data...\n",
      "[nltk_data]   Package punkt is already up-to-date!\n",
      "[nltk_data] Downloading package wordnet to\n",
      "[nltk_data]     C:\\Users\\susri\\AppData\\Roaming\\nltk_data...\n",
      "[nltk_data]   Package wordnet is already up-to-date!\n",
      "[nltk_data] Downloading package omw-1.4 to\n",
      "[nltk_data]     C:\\Users\\susri\\AppData\\Roaming\\nltk_data...\n",
      "[nltk_data]   Package omw-1.4 is already up-to-date!\n"
     ]
    },
    {
     "data": {
      "text/plain": [
       "True"
      ]
     },
     "execution_count": 2,
     "metadata": {},
     "output_type": "execute_result"
    }
   ],
   "source": [
    "nltk.download ('punkt')\n",
    "nltk.download('wordnet')\n",
    "nltk.download('omw-1.4')\n"
   ]
  },
  {
   "cell_type": "code",
   "execution_count": 3,
   "id": "2db47f37",
   "metadata": {},
   "outputs": [
    {
     "data": {
      "text/html": [
       "<div>\n",
       "<style scoped>\n",
       "    .dataframe tbody tr th:only-of-type {\n",
       "        vertical-align: middle;\n",
       "    }\n",
       "\n",
       "    .dataframe tbody tr th {\n",
       "        vertical-align: top;\n",
       "    }\n",
       "\n",
       "    .dataframe thead th {\n",
       "        text-align: right;\n",
       "    }\n",
       "</style>\n",
       "<table border=\"1\" class=\"dataframe\">\n",
       "  <thead>\n",
       "    <tr style=\"text-align: right;\">\n",
       "      <th></th>\n",
       "      <th>Questions</th>\n",
       "      <th>Answers</th>\n",
       "    </tr>\n",
       "  </thead>\n",
       "  <tbody>\n",
       "    <tr>\n",
       "      <th>0</th>\n",
       "      <td>What does it mean to have a mental illness?</td>\n",
       "      <td>Mental illnesses are health conditions that di...</td>\n",
       "    </tr>\n",
       "    <tr>\n",
       "      <th>1</th>\n",
       "      <td>Who does mental illness affect?</td>\n",
       "      <td>It is estimated that mental illness affects 1 ...</td>\n",
       "    </tr>\n",
       "    <tr>\n",
       "      <th>2</th>\n",
       "      <td>What causes mental illness?</td>\n",
       "      <td>It is estimated that mental illness affects 1 ...</td>\n",
       "    </tr>\n",
       "    <tr>\n",
       "      <th>3</th>\n",
       "      <td>What are some of the warning signs of mental i...</td>\n",
       "      <td>Symptoms of mental health disorders vary depen...</td>\n",
       "    </tr>\n",
       "    <tr>\n",
       "      <th>4</th>\n",
       "      <td>Can people with mental illness recover?</td>\n",
       "      <td>When healing from mental illness, early identi...</td>\n",
       "    </tr>\n",
       "    <tr>\n",
       "      <th>...</th>\n",
       "      <td>...</td>\n",
       "      <td>...</td>\n",
       "    </tr>\n",
       "    <tr>\n",
       "      <th>130</th>\n",
       "      <td>How does smoking affect mental and physical he...</td>\n",
       "      <td>Mental And Physical Health Effects\\nSmoking ta...</td>\n",
       "    </tr>\n",
       "    <tr>\n",
       "      <th>131</th>\n",
       "      <td>Tobacco and vaping in youth ?</td>\n",
       "      <td>Vaping And E-Cigarettes\\nAlthough some people ...</td>\n",
       "    </tr>\n",
       "    <tr>\n",
       "      <th>132</th>\n",
       "      <td>What are Serious Mental Illnesses?\\n</td>\n",
       "      <td>With early and consistent treatment, people wi...</td>\n",
       "    </tr>\n",
       "    <tr>\n",
       "      <th>133</th>\n",
       "      <td>What are dangers, risks of using or consuming ...</td>\n",
       "      <td>Drug use—including marijuana, cocaine, methamp...</td>\n",
       "    </tr>\n",
       "    <tr>\n",
       "      <th>134</th>\n",
       "      <td>What are natural ways of treatment for mental ...</td>\n",
       "      <td>Natural Treatments\\nWhen people use the word “...</td>\n",
       "    </tr>\n",
       "  </tbody>\n",
       "</table>\n",
       "<p>135 rows × 2 columns</p>\n",
       "</div>"
      ],
      "text/plain": [
       "                                             Questions  \\\n",
       "0          What does it mean to have a mental illness?   \n",
       "1                      Who does mental illness affect?   \n",
       "2                          What causes mental illness?   \n",
       "3    What are some of the warning signs of mental i...   \n",
       "4              Can people with mental illness recover?   \n",
       "..                                                 ...   \n",
       "130  How does smoking affect mental and physical he...   \n",
       "131                      Tobacco and vaping in youth ?   \n",
       "132               What are Serious Mental Illnesses?\\n   \n",
       "133  What are dangers, risks of using or consuming ...   \n",
       "134  What are natural ways of treatment for mental ...   \n",
       "\n",
       "                                               Answers  \n",
       "0    Mental illnesses are health conditions that di...  \n",
       "1    It is estimated that mental illness affects 1 ...  \n",
       "2    It is estimated that mental illness affects 1 ...  \n",
       "3    Symptoms of mental health disorders vary depen...  \n",
       "4    When healing from mental illness, early identi...  \n",
       "..                                                 ...  \n",
       "130  Mental And Physical Health Effects\\nSmoking ta...  \n",
       "131  Vaping And E-Cigarettes\\nAlthough some people ...  \n",
       "132  With early and consistent treatment, people wi...  \n",
       "133  Drug use—including marijuana, cocaine, methamp...  \n",
       "134  Natural Treatments\\nWhen people use the word “...  \n",
       "\n",
       "[135 rows x 2 columns]"
      ]
     },
     "execution_count": 3,
     "metadata": {},
     "output_type": "execute_result"
    }
   ],
   "source": [
    "df=pd.read_csv(\"New_Mental_Health_FAQ.csv\")\n",
    "df"
   ]
  },
  {
   "cell_type": "code",
   "execution_count": 4,
   "id": "68f90488",
   "metadata": {},
   "outputs": [],
   "source": [
    "l=len(df['Answers'])"
   ]
  },
  {
   "cell_type": "code",
   "execution_count": 5,
   "id": "92df23ca",
   "metadata": {},
   "outputs": [],
   "source": [
    "for i in range(l):\n",
    "    df['Questions'][i]=df['Questions'][i].lower()"
   ]
  },
  {
   "cell_type": "code",
   "execution_count": 6,
   "id": "482e7361",
   "metadata": {},
   "outputs": [
    {
     "data": {
      "text/plain": [
       "['what does it mean to have a mental illness?',\n",
       " 'who does mental illness affect?',\n",
       " 'what causes mental illness?',\n",
       " 'what are some of the warning signs of mental illness?',\n",
       " 'can people with mental illness recover?',\n",
       " 'what should i do if i know someone who appears to have the symptoms of a mental disorder?',\n",
       " 'how can i find a mental health professional for myself or my child?',\n",
       " 'what treatment options are available?',\n",
       " 'if i become involved in treatment, what do i need to know?',\n",
       " 'what is the difference between mental health professionals?',\n",
       " 'how can i find a mental health professional right for my child or myself?',\n",
       " 'if i become involved in treatment what do i need to know?',\n",
       " 'where else can i get help?',\n",
       " 'what should i know before starting a new medication?',\n",
       " 'if i feel better after taking medication, does this mean i am \"cured\" and can stop taking it?',\n",
       " 'how can i get help paying for my medication?',\n",
       " 'where can i go to find therapy',\n",
       " 'where can i learn about types of mental health treatment?',\n",
       " 'what are the different types of mental health professionals?',\n",
       " 'where can i go to find a support group?',\n",
       " 'where can i go to find inpatient care?',\n",
       " 'where can i go to find other local services?',\n",
       " 'where can i learn more information about clinical trials?',\n",
       " 'where can i learn more information about creating a psychiatric advance directive?',\n",
       " 'what is mental health?',\n",
       " 'what do i do if the support doesn’t help?',\n",
       " 'can you prevent mental health problems?',\n",
       " 'are there cures for mental health problems?',\n",
       " 'what causes mental health problems?',\n",
       " 'what do i do if i’m worried about my mental health?',\n",
       " 'how do i know if i’m unwell?',\n",
       " 'what should i do if i’m worried about a friend or relative?',\n",
       " 'how do i deal with someone telling me what to do?',\n",
       " 'why do i need to keep informed?',\n",
       " 'how can i tell if health information is good or bad?',\n",
       " 'why do i need a plan?',\n",
       " 'how can i maintain social connections? what if i feel lonely?',\n",
       " 'how can i take care of my physical health?',\n",
       " 'how can i use distraction to manage difficult thoughts or feelings?',\n",
       " 'how can i reframe the situation and find more balanced perspectives?',\n",
       " 'how can i challenge thinking traps?',\n",
       " 'how can i manage grief?',\n",
       " 'how can i find a doctor, psychiatrist, psychologist, or counsellor?',\n",
       " 'how can i see a psychiatrist?',\n",
       " 'how can i see a psychologist?',\n",
       " 'how can i see a counsellor?',\n",
       " 'how can i find a support group?',\n",
       " 'where can i find child and youth mental health services?',\n",
       " 'where can older adults find help for mental health concerns?',\n",
       " 'where can i find self-help materials for depression?',\n",
       " 'where can i find self-help materials for anxiety?',\n",
       " 'i’m having a hard time coping with a physical health problem. where can i find help?',\n",
       " 'when is substance use a problem? where can i go for help?',\n",
       " 'where can i find free or low-cost counselling?',\n",
       " 'can i get help paying for prescription medications?',\n",
       " 'how can i pay for mental health care?',\n",
       " 'how do i apply for income assistance?',\n",
       " 'what is msp?',\n",
       " 'what is a referral?',\n",
       " \"what's the difference between a psychiatrist and a registered psychologist?\",\n",
       " \"what's the difference between psychotherapy and counselling?\",\n",
       " \"what's the difference between cbt and dbt?\",\n",
       " \"what's the difference between antidepressants?\",\n",
       " 'i received a diagnosis but i don’t think it’s right. what can i do?',\n",
       " 'i was prescribed an antidepressant or other psychiatric medication but i don’t think it’s working. what can i do?',\n",
       " 'an adult in my life seems ill and won’t find help. what can i do?',\n",
       " 'i’m worried about my child or teenager. where can i find help?',\n",
       " 'someone i care about has a brain injury. where can i find more information?',\n",
       " 'someone i love has been diagnosed with depression. how can i help?',\n",
       " 'someone i love has been diagnosed with schizophrenia. how can i help?',\n",
       " 'i’m a young person and one of my parents has a mental illness. what can i do?',\n",
       " 'i have thoughts of suicide, or someone i care about is talking about suicide. what should i do?',\n",
       " 'cannabis is legally allowed to 19+ but there are doctor groups saying it’s potentially harmful to age 25. any use or certain use? what’s myth and what’s fact? if i’m a parent, what should i tell my young adult?',\n",
       " \"what's the difference between mental health and mental illness?\",\n",
       " 'where can i find more information about depression?',\n",
       " 'what’s the difference between anxiety and an anxiety disorder?',\n",
       " \"what's the difference between anxiety and stress?\",\n",
       " \"what's the difference between sadness and depression?\",\n",
       " 'what is dysthymia or persistent depressive disorder?',\n",
       " 'what is cyclothymic disorder?',\n",
       " 'what does rapid cycling mean?',\n",
       " 'where can i find information and help for borderline personality disorder?',\n",
       " 'what is schizoid personality disorder?',\n",
       " 'what is antisocial personality disorder?',\n",
       " 'what is obsessive-compulsive personality disorder?',\n",
       " 'what is binge-eating disorder?',\n",
       " 'what’s the difference between dissociative identity disorder (multiple personality disorder) and schizophrenia?',\n",
       " \"what's the difference between psychosis and schizophrenia?\",\n",
       " 'what are positive and negative symptoms?',\n",
       " 'what is a prodrome?',\n",
       " 'i’m an adult and i think i might have adhd. what can i do next?',\n",
       " 'what’s the difference between substance use and addiction?',\n",
       " 'how can i find help for an alcohol or drug use problem?',\n",
       " \"how do i know if i'm drinking too much?\",\n",
       " 'if cannabis is dangerous, why are we legalizing it?',\n",
       " 'how can i convince my kids not to use drugs?',\n",
       " 'what is the legal status (and evidence) of cbd oil?',\n",
       " 'what is the evidence on vaping?',\n",
       " 'what is anxiety disorder ?',\n",
       " 'how to manage stress ?',\n",
       " 'can i quit smoking on my own ?',\n",
       " 'is it normal for an older person living alone to be depressed?',\n",
       " 'what is the dsm, and why do mental health care professionals use it?',\n",
       " 'what are some lesser-known signs of anxiety that people might overlook?',\n",
       " 'can technology play a role in mental health support?',\n",
       " 'how does lack of sleep impact mental health, and what can be done to improve sleep quality?',\n",
       " 'how does diet influence mental health, and are there specific foods that can boost mood?',\n",
       " 'what role can physical exercise play in maintaining good mental health?',\n",
       " 'how does social connection impact mental health?',\n",
       " 'what does depression feel like?',\n",
       " 'what are some early signs of mental health concerns that should not be ignored?',\n",
       " 'why do depressed people push loved ones away?',\n",
       " 'how sunlight help for health ?',\n",
       " 'how to manage dopamine  and improve motivation & drive ?',\n",
       " 'how are mental disorders diagnosed in young children?',\n",
       " 'which mental disorders are often seen in children and teens?',\n",
       " 'how are children with mental health problems treated?\\n',\n",
       " 'which of these is a common symptom of schizophrenia? ',\n",
       " 'what are types of mental health treatment? ',\n",
       " 'tips to boost or improve mental health ?',\n",
       " 'what is toll free number of mental health care service ?',\n",
       " 'what are types of mental illness or disorders ?',\n",
       " 'what are symptoms of anxiety disorder ? ',\n",
       " 'explain bipolar disorder ?',\n",
       " 'what is ptsd or posttraumatic stress disorder ?',\n",
       " 'what is autism and its symptoms ?',\n",
       " 'what is diagnosis and treatment for autism ?',\n",
       " 'signs of suicide ?',\n",
       " 'what is sleep disorder and its causes ?',\n",
       " 'how to treat sleep disorder or help a person suffering from sleeping disorders ?',\n",
       " 'how does smoking affect mental and physical health ?',\n",
       " 'tobacco and vaping in youth ?',\n",
       " 'what are serious mental illnesses?\\n',\n",
       " 'what are dangers, risks of using or consuming drugs ?',\n",
       " 'what are natural ways of treatment for mental illness ?']"
      ]
     },
     "execution_count": 6,
     "metadata": {},
     "output_type": "execute_result"
    }
   ],
   "source": [
    "arr=[]\n",
    "for i in range(l):\n",
    "    arr.append(df['Questions'][i])\n",
    "arr"
   ]
  },
  {
   "cell_type": "code",
   "execution_count": 7,
   "id": "bf89e236",
   "metadata": {},
   "outputs": [
    {
     "data": {
      "text/plain": [
       "['what does it mean to have a mental illness?']"
      ]
     },
     "execution_count": 7,
     "metadata": {},
     "output_type": "execute_result"
    }
   ],
   "source": [
    "s1=nltk.sent_tokenize(arr[0])\n",
    "s1"
   ]
  },
  {
   "cell_type": "code",
   "execution_count": 8,
   "id": "f923a3d1",
   "metadata": {},
   "outputs": [],
   "source": [
    "word_tokens=[]\n",
    "for i in range(len(arr)):\n",
    "    word_tokens.append(nltk.word_tokenize(arr[i]))"
   ]
  },
  {
   "cell_type": "code",
   "execution_count": 9,
   "id": "b8aca121",
   "metadata": {},
   "outputs": [],
   "source": [
    "lemmer = nltk.stem.WordNetLemmatizer()\n",
    "def LemTokens (tokens):\n",
    "    return [lemmer.lemmatize(token) for token in tokens]\n",
    "remove_punc_dict = dict((ord(punct), None) for punct in string.punctuation)\n",
    "def LemNormalize(text):\n",
    "    return LemTokens (nltk.word_tokenize(text.lower(). translate(remove_punc_dict)))"
   ]
  },
  {
   "cell_type": "code",
   "execution_count": 10,
   "id": "9deb0fb5",
   "metadata": {},
   "outputs": [],
   "source": [
    "greet_inputs = ('hello', 'hi', 'whassup', 'how are you?')\n",
    "greet_responses = ('hi','Hey', 'Hey There!', 'There there!!')\n",
    "def greet (sentence):\n",
    "    for word in sentence. split():\n",
    "        if word.lower() in greet_inputs:\n",
    "            return random. choice (greet_responses)"
   ]
  },
  {
   "cell_type": "code",
   "execution_count": 11,
   "id": "a9489065",
   "metadata": {},
   "outputs": [],
   "source": [
    "from sklearn.feature_extraction.text import TfidfVectorizer\n",
    "from sklearn.metrics. pairwise import cosine_similarity"
   ]
  },
  {
   "cell_type": "code",
   "execution_count": 12,
   "id": "6bad5602",
   "metadata": {},
   "outputs": [],
   "source": [
    "def response (inp):\n",
    "    robo1_response = ''\n",
    "    TfidfVec = TfidfVectorizer (tokenizer = LemNormalize, stop_words = 'english')\n",
    "    tfidf = TfidfVec. fit_transform(arr)\n",
    "    vals = cosine_similarity(tfidf[-1], tfidf)\n",
    "    idx = vals. argsort()[0][-2]\n",
    "    flat = vals. flatten()\n",
    "    flat. sort()\n",
    "    req_tfidf = flat[-2]\n",
    "    if (req_tfidf == 0):\n",
    "        robo1_response = robo1_response +\"I am sorry. Unable to understand you!\"\n",
    "        return robo1_response\n",
    "    else:\n",
    "        robo1_response = robo1_response+ df['Answers'][idx]\n",
    "        return robo1_response"
   ]
  },
  {
   "cell_type": "code",
   "execution_count": null,
   "id": "e838b13a",
   "metadata": {},
   "outputs": [
    {
     "name": "stdout",
     "output_type": "stream",
     "text": [
      "Hello!\n",
      "Prompt:\n"
     ]
    }
   ],
   "source": [
    "flag = True\n",
    "print('Hello!')\n",
    "while(flag == True):\n",
    "    print(\"Prompt:\",end=\"\\n\")\n",
    "    user_response = input()\n",
    "    user_response = user_response.lower ()\n",
    "    if(user_response != 'bye'):\n",
    "        if(user_response == 'thank you' or user_response =='thanks'):\n",
    "            flag = False\n",
    "            print ('You are Welcome..  You can reach out to me for further questions')\n",
    "        else:\n",
    "            if(greet (user_response) != None):\n",
    "                print (greet (user_response))\n",
    "            else:\n",
    "                arr.append (user_response)\n",
    "                print(\"Response: \",end=\"\\n\")\n",
    "                print (response (user_response))\n",
    "                print(\"\\n\")\n",
    "                arr.remove (user_response)\n",
    "    else:\n",
    "        flag= False\n",
    "        print ('Goodbye!')"
   ]
  },
  {
   "cell_type": "code",
   "execution_count": null,
   "id": "3d238547",
   "metadata": {},
   "outputs": [],
   "source": []
  }
 ],
 "metadata": {
  "kernelspec": {
   "display_name": "Python 3 (ipykernel)",
   "language": "python",
   "name": "python3"
  },
  "language_info": {
   "codemirror_mode": {
    "name": "ipython",
    "version": 3
   },
   "file_extension": ".py",
   "mimetype": "text/x-python",
   "name": "python",
   "nbconvert_exporter": "python",
   "pygments_lexer": "ipython3",
   "version": "3.9.13"
  }
 },
 "nbformat": 4,
 "nbformat_minor": 5
}
